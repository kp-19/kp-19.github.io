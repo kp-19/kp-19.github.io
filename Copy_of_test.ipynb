{
  "nbformat": 4,
  "nbformat_minor": 0,
  "metadata": {
    "colab": {
      "provenance": [],
      "authorship_tag": "ABX9TyP/YuNQDmDL9f78nz13/U6B",
      "include_colab_link": true
    },
    "kernelspec": {
      "name": "python3",
      "display_name": "Python 3"
    },
    "language_info": {
      "name": "python"
    }
  },
  "cells": [
    {
      "cell_type": "markdown",
      "metadata": {
        "id": "view-in-github",
        "colab_type": "text"
      },
      "source": [
        "<a href=\"https://colab.research.google.com/github/kp-19/kp-19.github.io/blob/main/Copy_of_test.ipynb\" target=\"_parent\"><img src=\"https://colab.research.google.com/assets/colab-badge.svg\" alt=\"Open In Colab\"/></a>"
      ]
    },
    {
      "cell_type": "code",
      "execution_count": null,
      "metadata": {
        "id": "1KYusFUy-NIt",
        "colab": {
          "base_uri": "https://localhost:8080/"
        },
        "outputId": "f8ef3892-5177-42c2-d45e-31656024f22d"
      },
      "outputs": [
        {
          "output_type": "stream",
          "name": "stdout",
          "text": [
            "Aaj mene contest nhi diya\n"
          ]
        }
      ],
      "source": [
        "print(\"Aaj mene contest nhi diya\")"
      ]
    },
    {
      "cell_type": "code",
      "source": [
        "print('Aaj me gym bhi nhi gya')"
      ],
      "metadata": {
        "id": "82Te1zr9_uHx",
        "colab": {
          "base_uri": "https://localhost:8080/"
        },
        "outputId": "208d7f66-4a15-42fd-f0b3-f6aad1dbbdc9"
      },
      "execution_count": 1,
      "outputs": [
        {
          "output_type": "stream",
          "name": "stdout",
          "text": [
            "Aaj me gym bhi nhi gya\n"
          ]
        }
      ]
    },
    {
      "cell_type": "code",
      "source": [],
      "metadata": {
        "id": "mQ76aqR9AXE0"
      },
      "execution_count": null,
      "outputs": []
    }
  ]
}